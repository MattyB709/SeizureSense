{
 "cells": [
  {
   "cell_type": "code",
   "execution_count": null,
   "metadata": {},
   "outputs": [],
   "source": [
    "import mne\n",
    "import numpy as np\n",
    "import pandas as pd\n",
    "import torch\n",
    "import torch.nn as nn\n",
    "from torch.utils.data import Dataset\n",
    "from torch.utils.data import DataLoader,Subset\n",
    "from sklearn.model_selection import train_test_split\n",
    "import torch.optim as optim\n",
    "from torch.autograd import Variable\n",
    "import torch.nn.functional as F\n",
    "import torch.optim as optim"
   ]
  },
  {
   "cell_type": "code",
   "execution_count": null,
   "metadata": {},
   "outputs": [],
   "source": [
    "class CONV(nn.module):\n",
    "    def __init__(self):\n",
    "        super(CONV, self).__init__()\n",
    "        self.conv1 = nn.Conv2d(1, 4, (1, 128))\n",
    "\n",
    "        self.batchnorm1 = nn.BatchNorm2d()\n",
    "\n",
    "        self.conv2 = nn.Conv2d(4, 10, (23,1))\n",
    "\n",
    "        self.conv3 = nn.Conv2d()\n",
    "    \n",
    "    def forward(self, x):\n",
    "        self.batchnorm1(self.conv1(x))\n",
    "        \n",
    "\n",
    "\n"
   ]
  }
 ],
 "metadata": {
  "kernelspec": {
   "display_name": "mne",
   "language": "python",
   "name": "python3"
  },
  "language_info": {
   "name": "python",
   "version": "3.11.7"
  }
 },
 "nbformat": 4,
 "nbformat_minor": 2
}
