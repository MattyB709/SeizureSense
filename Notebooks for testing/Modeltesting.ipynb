{
 "cells": [
  {
   "cell_type": "code",
   "execution_count": 1,
   "metadata": {},
   "outputs": [],
   "source": [
    "import mne\n",
    "import numpy as np\n",
    "import pandas as pd\n",
    "import torch\n",
    "import torch.nn as nn\n",
    "from torch.utils.data import Dataset\n",
    "from torch.utils.data import DataLoader,Subset\n",
    "from sklearn.model_selection import train_test_split\n",
    "import torch.optim as optim\n",
    "from torch.autograd import Variable\n",
    "import torch.nn.functional as F\n",
    "import torch.optim as optim\n",
    "from sklearn.metrics import accuracy_score, recall_score, roc_auc_score, confusion_matrix\n",
    "import matplotlib.pyplot as plt\n",
    "import json\n",
    "\n",
    "mne.set_log_level('ERROR')\n"
   ]
  },
  {
   "cell_type": "code",
   "execution_count": 2,
   "metadata": {},
   "outputs": [],
   "source": [
    "class SeizureSense(nn.Module):\n",
    "    \n",
    "    def __init__(self):\n",
    "        super(SeizureSense,self).__init__()\n",
    "        \n",
    "        #Block 1\n",
    "        #should be taking in an input of 23x512\n",
    "        #first layer temporal filters\n",
    "        self.conv1=nn.Conv2d(1,8,(1,128),stride=1,padding=0)\n",
    "        self.batchnorm1 = nn.BatchNorm2d(8, False)\n",
    "        \n",
    "        #spatial layer(depthwise layer)\n",
    "        self.conv2=nn.Conv2d(8,32,(23,1))\n",
    "        self.batchnorm2 = nn.BatchNorm2d(32, False)\n",
    "        self.avgpool1 = nn.AvgPool2d((1,2))\n",
    "        #apply dropout here in forward\n",
    "        \n",
    "        \n",
    "        #Block 2\n",
    "        #sepereable convolutional 2d\n",
    "        self.conv3=nn.Conv2d(32,32,(1,16),stride=1)\n",
    "        self.batchnorm3 = nn.BatchNorm2d(32,False) #CHECK THIS!\n",
    "        self.avgpool2 = nn.AvgPool2d((1,16))\n",
    "\n",
    "        \n",
    "        #Block 3\n",
    "        \n",
    "        self.fc1= nn.Linear(96, 30)\n",
    "        self.fc2=nn.Linear(30,3)\n",
    "\n",
    "        #apply dropout here in forward\n",
    "        self.dropout = nn.Dropout(0.25)\n",
    "        \n",
    "    def forward(self,x):\n",
    "        x=self.conv1(x)\n",
    "        x =F.elu(x)\n",
    "        x=self.batchnorm1(x)\n",
    "        x = self.dropout(x)\n",
    "        \n",
    "        x = self.conv2(x)\n",
    "        x = F.elu(x)\n",
    "        x=self.batchnorm2(x)\n",
    "        x = self.dropout(x)\n",
    "        x=self.avgpool1(x)\n",
    "        \n",
    "        x=F.elu(self.conv3(x))\n",
    "        x=self.batchnorm3(x)\n",
    "        x = self.dropout(x)\n",
    "        x=self.avgpool2(x)\n",
    "        \n",
    "        #Fully connected time\n",
    "        x=x.view(-1,96)\n",
    "        x=F.elu(self.fc1(x))\n",
    "        # FOR TRAINING NO NEED FOR SIGMOUD ON LAST THING BC CROSS ENTRTOPY LOSS SO ADD IT IN INFERENCE DONT FORGET\n",
    "        x=self.fc2(x)\n",
    "        return x"
   ]
  },
  {
   "cell_type": "code",
   "execution_count": 3,
   "metadata": {},
   "outputs": [
    {
     "data": {
      "text/plain": [
       "<All keys matched successfully>"
      ]
     },
     "execution_count": 3,
     "metadata": {},
     "output_type": "execute_result"
    }
   ],
   "source": [
    "model=SeizureSense()\n",
    "state_dict = torch.load(r\"C:\\Users\\uddha\\Downloads\\SeizureSenseStateDict (3).pth\",map_location=torch.device('cpu'))\n",
    "model.load_state_dict(state_dict)"
   ]
  },
  {
   "cell_type": "code",
   "execution_count": 4,
   "metadata": {},
   "outputs": [],
   "source": [
    "import numpy as np\n",
    "\n",
    "optimal_threshold = 0.082604\n",
    "def decode_predictions(predictions):\n",
    "    label_names = ['interictal', 'preictal', 'ictal']\n",
    "    # Ensure predictions tensor is detached and converted to a NumPy array\n",
    "    predictions_np = predictions.detach().cpu().numpy()\n",
    "    \n",
    "    # Extract the probabilities for the preictal class\n",
    "    positive_class_probabilities = predictions_np[:, 1]\n",
    "    # Initialize an array for predicted labels\n",
    "    predicted_labels = np.zeros(predictions_np.shape[0], dtype=int)\n",
    "    \n",
    "    # Apply threshold to determine preictal predictions\n",
    "    preictal_indices = positive_class_probabilities > optimal_threshold\n",
    "    predicted_labels[preictal_indices] = 1  # Mark as preictal\n",
    "    \n",
    "    # Handle non-preictal predictions\n",
    "    for i, is_preictal in enumerate(preictal_indices):\n",
    "        if not is_preictal:\n",
    "            # If not preictal, choose the max between interictal and ictal\n",
    "            # Note: We multiply by 2 when selecting the ictal class to match the label index\n",
    "            predicted_labels[i] = np.argmax([predictions_np[i, 0], predictions_np[i, 2]]) * 2\n",
    "    \n",
    "    # Map numeric labels to string labels\n",
    "    decoded_labels = [label_names[label] for label in predicted_labels]\n",
    "    \n",
    "    return decoded_labels\n"
   ]
  },
  {
   "cell_type": "code",
   "execution_count": 5,
   "metadata": {},
   "outputs": [],
   "source": [
    "def decode_predictions_max(predictions):\n",
    "    label_names = ['interictal', 'preictal', 'ictal']\n",
    "    _, predicted_labels = torch.max(predictions, 1)\n",
    "    return [label_names[label] for label in predicted_labels]"
   ]
  },
  {
   "cell_type": "code",
   "execution_count": null,
   "metadata": {},
   "outputs": [],
   "source": [
    "#loading data\n",
    "raw = mne.io.read_raw_edf(r\"C:\\Users\\uddha\\Downloads\\chb02_19.edf\")\n",
    "raw.load_data()\n",
    "#Interictal time steps\n",
    "#2000 seceonn-2001 seceonds\n",
    "#Preictal \n",
    "#2779 seceonds-2780 seceonds\n",
    "#inseceonds to 3371 seceonds"
   ]
  },
  {
   "cell_type": "code",
   "execution_count": 7,
   "metadata": {},
   "outputs": [
    {
     "name": "stdout",
     "output_type": "stream",
     "text": [
      "torch.Size([1, 1, 23, 921600])\n"
     ]
    }
   ],
   "source": [
    "numpy_array=raw.get_data()\n",
    "segment_tensor=torch.from_numpy(numpy_array).float().unsqueeze(0).unsqueeze(0)\n",
    "print(segment_tensor.shape)"
   ]
  },
  {
   "cell_type": "code",
   "execution_count": 9,
   "metadata": {},
   "outputs": [],
   "source": [
    "def preprocessing(raw):\n",
    "\n",
    "    eeg_picks = mne.pick_types(raw.info, meg=False, eeg=True)\n",
    "\n",
    "\n",
    "    freqs = (60,120)\n",
    "    raw_notch = raw.copy().notch_filter(freqs=freqs, picks=eeg_picks)\n",
    "    \n",
    "    raw.notch_filter(freqs=freqs, picks=eeg_picks)  # Apply notch filter\n",
    "    raw.filter(l_freq=30, h_freq=None, fir_design='firwin', filter_length='auto', phase='zero', fir_window='hamming')\n",
    "    numpy_array=raw.get_data()\n",
    "    segment_tensor=torch.from_numpy(numpy_array).float().unsqueeze(0).unsqueeze(0)\n",
    "    return(segment_tensor)"
   ]
  },
  {
   "cell_type": "code",
   "execution_count": 13,
   "metadata": {},
   "outputs": [],
   "source": [
    "segment_tensor=preprocessing(raw)\n",
    "i=2779\n",
    "input=segment_tensor[:,:,:,256*i:256*(i+1)].float()"
   ]
  },
  {
   "cell_type": "code",
   "execution_count": 14,
   "metadata": {},
   "outputs": [
    {
     "name": "stdout",
     "output_type": "stream",
     "text": [
      "tensor([[9.9918e-01, 5.8176e-04, 2.3420e-04]], grad_fn=<SoftmaxBackward0>)\n"
     ]
    }
   ],
   "source": [
    "output=model(input)\n",
    "output=F.softmax(output,dim=1)\n",
    "print(output)"
   ]
  },
  {
   "cell_type": "code",
   "execution_count": 16,
   "metadata": {},
   "outputs": [],
   "source": [
    "torch.save(segment_tensor,'segment_tensor.pt')"
   ]
  },
  {
   "cell_type": "code",
   "execution_count": 15,
   "metadata": {},
   "outputs": [],
   "source": [
    "CHB_files={'CHB-MIT/CHB_Database/chb02/chb02_19.edf': [(0, 2769, 'interictal'), (2769, 3369, 'preictal'), (3369, 3378, 'ictal'), (3378, 3600, 'interictal')],}\n",
    "true_labels=[]\n",
    "start,end=2778,3388\n",
    "for i in range(start,end):\n",
    "    for interval in CHB_files.values():\n",
    "        for start_interval,end_interval,label in interval:\n",
    "            if start_interval <= i < end_interval:\n",
    "                true_labels.append(label)\n",
    "                break\n",
    "        else:\n",
    "            continue\n",
    "        break\n",
    "    \n",
    "true_labels = list(true_labels)"
   ]
  },
  {
   "cell_type": "code",
   "execution_count": 17,
   "metadata": {},
   "outputs": [
    {
     "data": {
      "text/plain": [
       "<All keys matched successfully>"
      ]
     },
     "execution_count": 17,
     "metadata": {},
     "output_type": "execute_result"
    }
   ],
   "source": [
    "model=SeizureSense()\n",
    "state_dict = torch.load(r\"C:\\Users\\uddha\\Downloads\\SeizureSenseStateDict (3).pth\",map_location=torch.device('cpu'))\n",
    "model.load_state_dict(state_dict)"
   ]
  },
  {
   "cell_type": "code",
   "execution_count": 113,
   "metadata": {},
   "outputs": [],
   "source": [
    "#loop within raw file\n",
    "model1=SeizureSense()\n",
    "model.eval()\n",
    "model1.eval()\n",
    "segment_tensor=preprocessing(raw)\n",
    "predictions=[]\n",
    "if_it_picked_the_max=[]\n",
    "random_predictions=[]\n",
    "random_predictions_max=[]\n",
    "for i in range(2778,3388):\n",
    "    input=segment_tensor[:,:,:,256*i:256*(i+1)]\n",
    "    output=model(input)\n",
    "    output=F.softmax(output,dim=1)\n",
    "    predicted_label_names=decode_predictions(output)\n",
    "    predicted_max=decode_predictions_max(output)\n",
    "    predictions.append(predicted_label_names)\n",
    "    if_it_picked_the_max.append(predicted_max)\n",
    "    #now with random parameters\n",
    "    random_output=model1(input)\n",
    "    random_output=F.softmax(random_output,dim=1)\n",
    "    predicted_random=decode_predictions(random_output)\n",
    "    predicted_random_max=decode_predictions_max(random_output)\n",
    "    random_predictions.append(predicted_random)\n",
    "    random_predictions_max.append(predicted_random_max)"
   ]
  },
  {
   "cell_type": "code",
   "execution_count": 91,
   "metadata": {},
   "outputs": [],
   "source": [
    "df = pd.DataFrame([predictions, if_it_picked_the_max,random_predictions,random_predictions_max,true_labels])\n",
    "csv_file_path = 'label_comparisons.csv'\n",
    "df.to_csv(csv_file_path, index=False)"
   ]
  },
  {
   "cell_type": "code",
   "execution_count": 114,
   "metadata": {},
   "outputs": [
    {
     "name": "stdout",
     "output_type": "stream",
     "text": [
      "The number of correct predicitons using the pretrained model and threshold 0\n",
      "The number of correct predictions of pretrained model using torch.max 21\n",
      "The number of correct predicitons of a random model with a threshold 591\n",
      "The number of correct predicitons of a random model usign torch.max 9\n"
     ]
    }
   ],
   "source": [
    "count_with_threshold = 0\n",
    "count_with_max=0\n",
    "count_with_random=0\n",
    "count_with_random_max=0\n",
    "for i in range(len(true_labels)):\n",
    "    # Assuming predictions[i] is a list with only one element, compare true_labels[i] to predictions[i][0]\n",
    "    if true_labels[i] == predictions[i][0]:\n",
    "        count += 1\n",
    "    if true_labels[i]==if_it_picked_the_max[i][0]:\n",
    "        count_with_max+=1\n",
    "    if true_labels[i]==random_predictions[i][0]:\n",
    "        count_with_random+=1\n",
    "    if true_labels[i]==random_predictions_max[i][0]:\n",
    "        count_with_random_max+=1\n",
    "print('The number of correct predicitons using the pretrained model and threshold',count_with_threshold)\n",
    "print('The number of correct predictions of pretrained model using torch.max',count_with_max)\n",
    "print('The number of correct predicitons of a random model with a threshold',count_with_random)\n",
    "print('The number of correct predicitons of a random model usign torch.max',count_with_random_max)\n"
   ]
  }
 ],
 "metadata": {
  "kernelspec": {
   "display_name": "Python 3",
   "language": "python",
   "name": "python3"
  },
  "language_info": {
   "codemirror_mode": {
    "name": "ipython",
    "version": 3
   },
   "file_extension": ".py",
   "mimetype": "text/x-python",
   "name": "python",
   "nbconvert_exporter": "python",
   "pygments_lexer": "ipython3",
   "version": "3.11.7"
  }
 },
 "nbformat": 4,
 "nbformat_minor": 2
}
