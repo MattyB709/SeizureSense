{
 "cells": [
  {
   "cell_type": "code",
   "execution_count": 1,
   "metadata": {},
   "outputs": [],
   "source": [
    "import mne\n",
    "import numpy as np\n",
    "import torch\n",
    "import matplotlib\n",
    "import matplotlib.pyplot as plt\n",
    "import pathlib\n",
    "import PyQt5\n",
    "plt.style.use('dark_background')\n",
    "mne.set_log_level('ERROR')\n"
   ]
  },
  {
   "cell_type": "code",
   "execution_count": 9,
   "metadata": {},
   "outputs": [],
   "source": [
    "plt.ion() #Makes plot interactive\n",
    "raw= mne.io.read_raw_edf(r\"C:\\Users\\uddha\\OneDrive\\Desktop\\SS Learning\\Se\\SeizureSense\\CHB-MIT\\chb01_01.edf\",preload=True)\n",
    "raw_temple=mne.io.read_raw_edf(r\"C:\\Users\\uddha\\Downloads\\aaaaaaac_s001_t000.edf\",preload=True)"
   ]
  },
  {
   "cell_type": "code",
   "execution_count": 8,
   "metadata": {},
   "outputs": [
    {
     "name": "stdout",
     "output_type": "stream",
     "text": [
      "['FP1-F7', 'F7-T7', 'T7-P7', 'P7-O1', 'FP1-F3', 'F3-C3', 'C3-P3', 'P3-O1', 'FP2-F4', 'F4-C4', 'C4-P4', 'P4-O2', 'FP2-F8', 'F8-T8', 'T8-P8-0', 'P8-O2', 'FZ-CZ', 'CZ-PZ', 'P7-T7', 'T7-FT9', 'FT9-FT10', 'FT10-T8', 'T8-P8-1']\n",
      "['EEG FP1-LE', 'EEG FP2-LE', 'EEG F3-LE', 'EEG F4-LE', 'EEG C3-LE', 'EEG C4-LE', 'EEG A1-LE', 'EEG A2-LE', 'EEG P3-LE', 'EEG P4-LE', 'EEG O1-LE', 'EEG O2-LE', 'EEG F7-LE', 'EEG F8-LE', 'EEG T3-LE', 'EEG T4-LE', 'EEG T5-LE', 'EEG T6-LE', 'EEG FZ-LE', 'EEG CZ-LE', 'EEG PZ-LE', 'EEG OZ-LE', 'EEG PG1-LE', 'EEG PG2-LE', 'EEG EKG-LE', 'EEG SP2-LE', 'EEG SP1-LE', 'EEG RLC-LE', 'EEG LUC-LE', 'EEG 30-LE', 'EEG T1-LE', 'EEG T2-LE', 'PHOTIC PH']\n",
      "None\n"
     ]
    }
   ],
   "source": [
    "print(raw_chb.ch_names)\n",
    "print(raw_temple.ch_names)\n",
    "\n",
    "\n",
    "# Assuming a montage has been applied to raw\n",
    "montage = raw_chb.get_montage()\n",
    "print(montage)\n"
   ]
  },
  {
   "cell_type": "code",
   "execution_count": 10,
   "metadata": {},
   "outputs": [
    {
     "data": {
      "text/plain": [
       "tensor([[[[-3.2187e-20,  8.7587e-05,  3.7809e-05,  ..., -2.0532e-05,\n",
       "           -1.6686e-05,  6.3527e-21],\n",
       "          [ 8.4703e-22,  6.2852e-05,  2.8925e-05,  ...,  3.6397e-06,\n",
       "            3.1267e-06,  1.2705e-20],\n",
       "          [-1.2891e-20,  2.5756e-05,  1.0998e-05,  ...,  5.7085e-06,\n",
       "            5.7266e-06,  5.0822e-21],\n",
       "          ...,\n",
       "          [-5.0928e-20,  1.5912e-04,  7.1258e-05,  ..., -1.0487e-06,\n",
       "           -3.2994e-06,  1.6941e-21],\n",
       "          [ 9.7409e-21, -5.6965e-05, -2.4773e-05,  ..., -3.9444e-06,\n",
       "           -2.0967e-06, -5.0822e-21],\n",
       "          [ 1.0164e-20, -2.8145e-05, -1.3060e-05,  ..., -5.6611e-06,\n",
       "           -1.5858e-06,  5.2940e-21]]]])"
      ]
     },
     "execution_count": 10,
     "metadata": {},
     "output_type": "execute_result"
    }
   ],
   "source": [
    "def preprocessing(raw):\n",
    "\n",
    "    eeg_picks = mne.pick_types(raw.info, meg=False, eeg=True)\n",
    "\n",
    "\n",
    "    freqs = (60,120)\n",
    "    raw_notch = raw.copy().notch_filter(freqs=freqs, picks=eeg_picks)\n",
    "    \n",
    "    raw.notch_filter(freqs=freqs, picks=eeg_picks)  # Apply notch filter\n",
    "    raw.filter(l_freq=30, h_freq=None, fir_design='firwin', filter_length='auto', phase='zero', fir_window='hamming')\n",
    "    numpy_array=raw.get_data()\n",
    "    segment_tensor=torch.from_numpy(numpy_array).float().unsqueeze(0).unsqueeze(0)\n",
    "    return(segment_tensor)\n",
    "\n",
    "preprocessing(raw)"
   ]
  },
  {
   "cell_type": "code",
   "execution_count": 12,
   "metadata": {},
   "outputs": [
    {
     "name": "stdout",
     "output_type": "stream",
     "text": [
      "Using matplotlib backend: QtAgg\n"
     ]
    }
   ],
   "source": [
    "\n",
    "plt.switch_backend('Qt5Agg')\n",
    "\n",
    "#raw.plot(duration=10,proj=False, n_channels=len(raw.ch_names), remove_dc=False)\n",
    "raw.plot(duration=10, proj=False, n_channels=len(raw.ch_names),bgcolor='k',color='w' ,remove_dc=False)  # Customize background and data line colors\n",
    "\n",
    "plt.pause(0.0001) \n",
    "%matplotlib\n"
   ]
  },
  {
   "cell_type": "markdown",
   "metadata": {},
   "source": []
  }
 ],
 "metadata": {
  "kernelspec": {
   "display_name": "Python 3",
   "language": "python",
   "name": "python3"
  },
  "language_info": {
   "codemirror_mode": {
    "name": "ipython",
    "version": 3
   },
   "file_extension": ".py",
   "mimetype": "text/x-python",
   "name": "python",
   "nbconvert_exporter": "python",
   "pygments_lexer": "ipython3",
   "version": "3.10.10"
  }
 },
 "nbformat": 4,
 "nbformat_minor": 2
}
