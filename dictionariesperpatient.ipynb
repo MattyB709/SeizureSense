{
 "cells": [
  {
   "cell_type": "markdown",
   "metadata": {},
   "source": [
    "Patient 1 "
   ]
  },
  {
   "cell_type": "code",
   "execution_count": null,
   "metadata": {
    "vscode": {
     "languageId": "plaintext"
    }
   },
   "outputs": [],
   "source": [
    "import pickle \n",
    "\n",
    "CHB_files = {\n",
    "    'CHB-MIT/chb01_01.edf': [(0, 3600, 'interictal')],\n",
    "    'CHB-MIT/chb01_02.edf': [(0, 3600, 'interictal')],\n",
    "    'CHB-MIT/chb01_03.edf': [(0, 2396, 'interictal'), (2396, 2996, 'preictal'), (2996, 3036, 'ictal'), (3036, 3600, 'interictal')],\n",
    "    'CHB-MIT/chb01_04.edf': [(0, 867, 'interictal'), (867, 1467, 'preictal'), (1467, 1494, 'ictal'), (1494, 3600, 'interictal')],\n",
    "    'CHB-MIT/chb01_05.edf': [(0, 3600, 'interictal')],\n",
    "    'CHB-MIT/chb01_06.edf': [(0, 3600, 'interictal')],\n",
    "    'CHB-MIT/chb01_07.edf': [(0, 3600, 'interictal')],\n",
    "    'CHB-MIT/chb01_08.edf': [(0, 3600, 'interictal')],\n",
    "    'CHB-MIT/chb01_09.edf': [(0, 3600, 'interictal')],\n",
    "    'CHB-MIT/chb01_10.edf': [(0, 3600, 'interictal')],\n",
    "    'CHB-MIT/chb01_11.edf': [(0, 3600, 'interictal')],\n",
    "    'CHB-MIT/chb01_12.edf': [(0, 3600, 'interictal')],\n",
    "    'CHB-MIT/chb01_13.edf': [(0, 3600, 'interictal')],\n",
    "    'CHB-MIT/chb01_14.edf': [(0, 3600, 'interictal')],\n",
    "    'CHB-MIT/chb01_15.edf': [(0, 1132, 'interictal'), (1132, 1732, 'preictal'), (1732, 1772, 'ictal'), (1772, 3600, 'interictal')],\n",
    "    'CHB-MIT/chb01_16.edf': [(0, 415, 'interictal'), (415, 1015, 'preictal'), (1015, 1066, 'ictal'), (1066, 3600, 'interictal')],\n",
    "    'CHB-MIT/chb01_17.edf': [(0, 3600, 'interictal')],\n",
    "    'CHB-MIT/chb01_18.edf': [(0, 1120, 'interictal'), (1120, 1720, 'preictal'), (1720, 1810, 'ictal'), (1810, 3600, 'interictal')],\n",
    "    'CHB-MIT/chb01_19.edf': [(0, 3600, 'interictal')],\n",
    "    'CHB-MIT/chb01_20.edf': [(0, 3600, 'interictal')],\n",
    "    'CHB-MIT/chb01_21.edf': [(0, 327, 'preictal'), (327, 420, 'ictal'), (420, 3600, 'interictal')],\n",
    "    'CHB-MIT/chb01_22.edf': [(0, 3600, 'interictal')],\n",
    "    'CHB-MIT/chb01_23.edf': [(0, 3600, 'interictal')],\n",
    "    'CHB-MIT/chb01_24.edf': [(0, 3600, 'interictal')],\n",
    "    'CHB-MIT/chb01_25.edf': [(0, 3600, 'interictal')],\n",
    "    'CHB-MIT/chb01_26.edf': [(0, 1262, 'interictal'), (1262, 1862, 'preictal'), (1862, 1963, 'ictal'), (1963, 3600, 'interictal')],\n",
    "    'CHB-MIT/chb01_27.edf': [(0, 3600, 'interictal')],\n",
    "    'CHB-MIT/chb01_29.edf': [(0, 3600, 'interictal')],\n",
    "    'CHB-MIT/chb01_30.edf': [(0, 3600, 'interictal')],\n",
    "    'CHB-MIT/chb01_31.edf': [(0, 3600, 'interictal')],\n",
    "    'CHB-MIT/chb01_32.edf': [(0, 3600, 'interictal')],\n",
    "    'CHB-MIT/chb01_33.edf': [(0, 3600, 'interictal')],\n",
    "    'CHB-MIT/chb01_34.edf': [(0, 3600, 'interictal')],\n",
    "    'CHB-MIT/chb01_36.edf': [(0, 3600, 'interictal')],\n",
    "    'CHB-MIT/chb01_37.edf': [(0, 3600, 'interictal')],\n",
    "    'CHB-MIT/chb01_38.edf': [(0, 3600, 'interictal')],\n",
    "    'CHB-MIT/chb01_39.edf': [(0, 3600, 'interictal')],\n",
    "    'CHB-MIT/chb01_40.edf': [(0, 3600, 'interictal')],\n",
    "    'CHB-MIT/chb01_41.edf': [(0, 3600, 'interictal')],\n",
    "    'CHB-MIT/chb01_42.edf': [(0, 3600, 'interictal')],\n",
    "    'CHB-MIT/chb01_43.edf': [(0, 3600, 'interictal')],\n",
    "    'CHB-MIT/chb01_46.edf': [(0, 3600, 'interictal')]\n",
    "    }\n",
    "\n"
   ]
  },
  {
   "cell_type": "markdown",
   "metadata": {},
   "source": [
    "Patient 2"
   ]
  },
  {
   "cell_type": "code",
   "execution_count": null,
   "metadata": {
    "vscode": {
     "languageId": "plaintext"
    }
   },
   "outputs": [],
   "source": []
  }
 ],
 "metadata": {
  "language_info": {
   "name": "python"
  }
 },
 "nbformat": 4,
 "nbformat_minor": 2
}
