{
 "cells": [
  {
   "cell_type": "code",
   "execution_count": 3,
   "metadata": {},
   "outputs": [],
   "source": [
    "import mne\n",
    "import numpy as np\n",
    "import pandas as pd\n",
    "import torch\n",
    "from torch.utils.data import Dataset"
   ]
  },
  {
   "cell_type": "code",
   "execution_count": 4,
   "metadata": {},
   "outputs": [
    {
     "name": "stdout",
     "output_type": "stream",
     "text": [
      "Extracting EDF parameters from /home/matth/python/SeizureSense/CHB-MIT/chb01_01.edf...\n",
      "EDF file detected\n",
      "Setting channel info structure...\n",
      "Creating raw.info structure...\n",
      "Extracting EDF parameters from /home/matth/python/SeizureSense/CHB-MIT/chb01_02.edf...\n",
      "EDF file detected\n",
      "Setting channel info structure...\n",
      "Creating raw.info structure...\n"
     ]
    },
    {
     "name": "stderr",
     "output_type": "stream",
     "text": [
      "/tmp/ipykernel_1946/878268199.py:1: RuntimeWarning: Channel names are not unique, found duplicates for: {'T8-P8'}. Applying running numbers for duplicates.\n",
      "  raw1 = mne.io.read_raw_edf('CHB-MIT/chb01_01.edf')\n",
      "/tmp/ipykernel_1946/878268199.py:2: RuntimeWarning: Channel names are not unique, found duplicates for: {'T8-P8'}. Applying running numbers for duplicates.\n",
      "  raw2 = mne.io.read_raw_edf('CHB-MIT/chb01_02.edf')\n"
     ]
    }
   ],
   "source": [
    "raw1 = mne.io.read_raw_edf('CHB-MIT/chb01_01.edf')\n",
    "raw2 = mne.io.read_raw_edf('CHB-MIT/chb01_02.edf')"
   ]
  },
  {
   "cell_type": "code",
   "execution_count": null,
   "metadata": {},
   "outputs": [],
   "source": []
  },
  {
   "cell_type": "code",
   "execution_count": null,
   "metadata": {},
   "outputs": [],
   "source": [
    "class CHBData(Dataset):\n",
    "    def __init__(self, CHB_files, segment_length):\n",
    "        self.segments = []\n",
    "        self.labels = []\n",
    "        for file_path, info in CHB_files.items():\n",
    "            file_path.load_data()\n",
    "            for start, end, label in info:\n",
    "                segment, lab = segment_eeg(start, end, label)\n",
    "                self.segments.append(segment)\n",
    "                self.labels.append(lab)\n",
    "\n",
    "    def __len__():\n",
    "        return len(CHB_files)\n",
    "    \n",
    "    def __getitem__(self, i):\n",
    "        return np.nan\n",
    "\n",
    "    def segment_eeg(start, end, label):\n",
    "        return np.nan\n",
    "    \n",
    "    def preprocessing(file_path):\n",
    "        raw = mne.io.read_raw_edf(file_path)\n",
    "        raw.load_data()\n",
    "        eeg_picks = mne.pick_types(raw.info, meg=False, eeg=True)\n",
    "\n",
    "\n",
    "        freqs = (60,120)\n",
    "        raw_notch = raw.copy().notch_filter(freqs=freqs, picks=eeg_picks)\n",
    "        raw_notch.filter(l_freq=30, h_freq=None, fir_design='firwin', filter_length='auto', phase='zero', fir_window='hamming')\n",
    "    "
   ]
  },
  {
   "cell_type": "code",
   "execution_count": 5,
   "metadata": {},
   "outputs": [],
   "source": [
    "kys = {'CHB-MIT/chb01_01.edf':[(0, 3600, \"interictal\")], 'CHB-MIT/chb01_02.edf':[(0, 3600, \"interictal\")], }"
   ]
  }
 ],
 "metadata": {
  "kernelspec": {
   "display_name": "base",
   "language": "python",
   "name": "python3"
  },
  "language_info": {
   "codemirror_mode": {
    "name": "ipython",
    "version": 3
   },
   "file_extension": ".py",
   "mimetype": "text/x-python",
   "name": "python",
   "nbconvert_exporter": "python",
   "pygments_lexer": "ipython3",
   "version": "3.11.7"
  }
 },
 "nbformat": 4,
 "nbformat_minor": 2
}
