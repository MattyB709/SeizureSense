{
 "cells": [
  {
   "cell_type": "code",
   "execution_count": 1,
   "metadata": {},
   "outputs": [
    {
     "name": "stderr",
     "output_type": "stream",
     "text": [
      "<frozen importlib._bootstrap>:241: RuntimeWarning: The MNE-Python config file (/home/mattbls/.mne/mne-python.json) is not a valid JSON file and might be corrupted\n"
     ]
    }
   ],
   "source": [
    "import mne\n",
    "import numpy as np\n",
    "import pandas as pd\n",
    "import torch\n",
    "import torch.nn as nn\n",
    "from torch.utils.data import Dataset\n",
    "from torch.utils.data import DataLoader,Subset\n",
    "from sklearn.model_selection import train_test_split\n",
    "import torch.optim as optim\n",
    "from torch.autograd import Variable\n",
    "import torch.nn.functional as F\n",
    "import torch.optim as optim\n",
    "from sklearn.metrics import accuracy_score, recall_score, roc_auc_score, confusion_matrix"
   ]
  },
  {
   "cell_type": "code",
   "execution_count": 2,
   "metadata": {},
   "outputs": [],
   "source": [
    "mne.set_log_level('ERROR')"
   ]
  },
  {
   "cell_type": "code",
   "execution_count": 3,
   "metadata": {},
   "outputs": [],
   "source": [
    "if torch.cuda.is_available():\n",
    "    device = \"cuda\"\n",
    "else:\n",
    "    device = \"cpu\"\n"
   ]
  },
  {
   "cell_type": "code",
   "execution_count": 4,
   "metadata": {},
   "outputs": [
    {
     "name": "stdout",
     "output_type": "stream",
     "text": [
      "cuda\n"
     ]
    }
   ],
   "source": [
    "print(device)"
   ]
  },
  {
   "cell_type": "code",
   "execution_count": 5,
   "metadata": {},
   "outputs": [],
   "source": [
    "#creating dataset\n",
    "class CHBData(Dataset):\n",
    "    def __init__(self, CHB_files, segment_length):\n",
    "        self.segments = [] # input for model containing segment of length \"l\" and torch tensor containing the eeg values for that segment\n",
    "        self.labels = [] # output of model containing  the labels of each segment, either interictal, preictal, or ictal\n",
    "        for file_path, info in CHB_files.items():\n",
    "            processed_data=self.preprocessing(file_path) # preprocess every file in dictionary \n",
    "            for start, end, label in info:\n",
    "                segmented_eeg = self.segment_eeg(processed_data,start, end, label,segment_length) # segments that file\n",
    "                for segment,label in segmented_eeg:\n",
    "                    self.segments.append(segment) # adds to final list for model \n",
    "                    self.labels.append(label)\n",
    "\n",
    "    def __len__(self):\n",
    "        return len(self.segments)\n",
    "    \n",
    "    def __getitem__(self, i):\n",
    "        segment, label = self.segments[i], self.labels[i]\n",
    "        segment = segment.unsqueeze(0).unsqueeze(0)\n",
    "        label_encoded = self.label_to_int(label)\n",
    "        return segment,label_encoded\n",
    "\n",
    "    def label_to_int(self,label):\n",
    "        label_mapping = {'interictal': 0, 'preictal': 1, 'ictal': 2}\n",
    "        return label_mapping[label]\n",
    "    \n",
    "    \n",
    "    def segment_eeg(self,segment_tensor,start, end, label,segment_length):\n",
    "        start=start*256 #have to mulyiply time by sampling rate BUDDDDYYYY \n",
    "        end=end*256\n",
    "        segments=[] # list to store tuple of each segments pytorch tensor and each label inside the data \n",
    "        for i in range(start,end,segment_length):\n",
    "            segment_end=min(i+segment_length,end)\n",
    "            segment=segment_tensor[:,i:segment_end] # isolates segment of wtv lenght it is from each torch tensor in preprocessing our data \n",
    "            segments.append((segment,label))\n",
    "            \n",
    "        return segments\n",
    "\n",
    "    \n",
    "    def preprocessing(self,file_path):\n",
    "        # loading data: \n",
    "        raw = mne.io.read_raw_edf(file_path)\n",
    "        raw.load_data()\n",
    "        # processing every raw object to remove 60 hz and its multiples:\n",
    "        eeg_picks = mne.pick_types(raw.info, meg=False, eeg=True)\n",
    "        freqs = (60,120)\n",
    "        raw_notch = raw.notch_filter(freqs=freqs, picks=eeg_picks)\n",
    "        # applying a high pass filter of order 4 with a cutoff frequency of 30 Hz to the data to enhance gamma signal to noise ratio:\n",
    "        raw_notch.filter(l_freq=30, h_freq=None, fir_design='firwin', filter_length='auto', phase='zero', fir_window='hamming')\n",
    "        numpy_array=raw_notch.get_data()\n",
    "        segment_tensor=torch.from_numpy(numpy_array)\n",
    "        return segment_tensor"
   ]
  },
  {
   "cell_type": "code",
   "execution_count": 6,
   "metadata": {},
   "outputs": [],
   "source": [
    "\n",
    "\n",
    "CHB_files = {\n",
    "    'CHB-MIT/chb01_01.edf': [(0, 3600, 'interictal')],\n",
    "    'CHB-MIT/chb01_02.edf': [(0, 3600, 'interictal')],\n",
    "    'CHB-MIT/chb01_03.edf': [(0, 2396, 'interictal'), (2396, 2996, 'preictal'), (2996, 3036, 'ictal'), (3036, 3600, 'interictal')],\n",
    "    'CHB-MIT/chb01_04.edf': [(0, 867, 'interictal'), (867, 1467, 'preictal'), (1467, 1494, 'ictal'), (1494, 3600, 'interictal')],\n",
    "    'CHB-MIT/chb01_05.edf': [(0, 3600, 'interictal')],\n",
    "    'CHB-MIT/chb01_06.edf': [(0, 3600, 'interictal')],\n",
    "    'CHB-MIT/chb01_07.edf': [(0, 3600, 'interictal')],\n",
    "    'CHB-MIT/chb01_08.edf': [(0, 3600, 'interictal')],\n",
    "    'CHB-MIT/chb01_09.edf': [(0, 3600, 'interictal')],\n",
    "    'CHB-MIT/chb01_10.edf': [(0, 3600, 'interictal')],\n",
    "    'CHB-MIT/chb01_11.edf': [(0, 3600, 'interictal')],\n",
    "    'CHB-MIT/chb01_12.edf': [(0, 3600, 'interictal')],\n",
    "    'CHB-MIT/chb01_13.edf': [(0, 3600, 'interictal')],\n",
    "    'CHB-MIT/chb01_14.edf': [(0, 3600, 'interictal')],\n",
    "    'CHB-MIT/chb01_15.edf': [(0, 1132, 'interictal'), (1132, 1732, 'preictal'), (1732, 1772, 'ictal'), (1772, 3600, 'interictal')],\n",
    "    'CHB-MIT/chb01_16.edf': [(0, 415, 'interictal'), (415, 1015, 'preictal'), (1015, 1066, 'ictal'), (1066, 3600, 'interictal')],\n",
    "    'CHB-MIT/chb01_17.edf': [(0, 3600, 'interictal')],\n",
    "    'CHB-MIT/chb01_18.edf': [(0, 1120, 'interictal'), (1120, 1720, 'preictal'), (1720, 1810, 'ictal'), (1810, 3600, 'interictal')],\n",
    "    'CHB-MIT/chb01_19.edf': [(0, 3600, 'interictal')],\n",
    "    'CHB-MIT/chb01_20.edf': [(0, 2663, 'interictal')],\n",
    "    'CHB-MIT/chb01_21.edf': [(0, 327, 'preictal'), (327, 420, 'ictal'), (420, 3600, 'interictal')],\n",
    "    'CHB-MIT/chb01_22.edf': [(0, 3600, 'interictal')],\n",
    "    'CHB-MIT/chb01_23.edf': [(0, 3600, 'interictal')],\n",
    "    'CHB-MIT/chb01_24.edf': [(0, 3600, 'interictal')],\n",
    "    'CHB-MIT/chb01_25.edf': [(0, 3600, 'interictal')],\n",
    "    'CHB-MIT/chb01_26.edf': [(0, 1262, 'interictal'), (1262, 1862, 'preictal'), (1862, 1963, 'ictal'), (1963, 2325, 'interictal')],\n",
    "    'CHB-MIT/chb01_27.edf': [(0, 600, 'interictal')],\n",
    "    'CHB-MIT/chb01_29.edf': [(0, 3600, 'interictal')],\n",
    "    'CHB-MIT/chb01_30.edf': [(0, 3600, 'interictal')],\n",
    "    'CHB-MIT/chb01_31.edf': [(0, 3600, 'interictal')],\n",
    "    'CHB-MIT/chb01_32.edf': [(0, 3600, 'interictal')],\n",
    "    'CHB-MIT/chb01_33.edf': [(0, 3600, 'interictal')],\n",
    "    'CHB-MIT/chb01_34.edf': [(0, 3600, 'interictal')],\n",
    "    'CHB-MIT/chb01_36.edf': [(0, 3600, 'interictal')],\n",
    "    'CHB-MIT/chb01_37.edf': [(0, 3600, 'interictal')],\n",
    "    'CHB-MIT/chb01_38.edf': [(0, 3600, 'interictal')],\n",
    "    'CHB-MIT/chb01_39.edf': [(0, 3600, 'interictal')],\n",
    "    'CHB-MIT/chb01_40.edf': [(0, 3600, 'interictal')],\n",
    "    'CHB-MIT/chb01_41.edf': [(0, 3600, 'interictal')],\n",
    "    'CHB-MIT/chb01_42.edf': [(0, 3600, 'interictal')],\n",
    "    'CHB-MIT/chb01_43.edf': [(0, 3600, 'interictal')],\n",
    "    'CHB-MIT/chb01_46.edf': [(0, 3600, 'interictal')]\n",
    "    }\n",
    "\n"
   ]
  },
  {
   "cell_type": "code",
   "execution_count": 7,
   "metadata": {},
   "outputs": [
    {
     "ename": "",
     "evalue": "",
     "output_type": "error",
     "traceback": [
      "\u001b[1;31mThe Kernel crashed while executing code in the the current cell or a previous cell. Please review the code in the cell(s) to identify a possible cause of the failure. Click <a href='https://aka.ms/vscodeJupyterKernelCrash'>here</a> for more info. View Jupyter <a href='command:jupyter.viewOutput'>log</a> for further details."
     ]
    }
   ],
   "source": [
    "\n",
    "\n",
    "# Create the full dataset\n",
    "full_dataset = CHBData(CHB_files, segment_length=512)\n",
    "\n",
    "# Split the dataset into train and test sets\n",
    "\n",
    "\n",
    "\n"
   ]
  },
  {
   "cell_type": "code",
   "execution_count": null,
   "metadata": {},
   "outputs": [],
   "source": [
    "train_indices, test_indices = train_test_split(range(len(full_dataset)), test_size=0.3, random_state=42)\n",
    "\n",
    "#  split the test set into validation and actual test sets\n",
    "val_indices, test_indices = train_test_split(test_indices, test_size=0.5, random_state=42)\n",
    "\n",
    "# dataloaders for training, validation, and test\n",
    "train_dataset = Subset(full_dataset, train_indices)\n",
    "val_dataset = Subset(full_dataset, val_indices)\n",
    "test_dataset = Subset(full_dataset, test_indices)\n",
    "\n",
    "# Create dataloader type shit\n",
    "train_loader = DataLoader(train_dataset, batch_size=32, shuffle=True, num_workers=0, drop_last=True)\n",
    "val_loader = DataLoader(val_dataset, batch_size=32, shuffle=False, num_workers=0, drop_last=True)\n",
    "test_loader = DataLoader(test_dataset, batch_size=32, shuffle=False, num_workers=0, drop_last=True)"
   ]
  },
  {
   "cell_type": "code",
   "execution_count": 6,
   "metadata": {},
   "outputs": [],
   "source": [
    "class SeizureSense(nn.Module):\n",
    "    \n",
    "    def __init__(self):\n",
    "        super(SeizureSense,self).__init__()\n",
    "        \n",
    "        #Block 1\n",
    "        #should be taking in an input of 23x512\n",
    "        #first layer temporal shittt(pointwise is the technical term)\n",
    "        self.conv1=nn.Conv2d(1,8,(1,128),stride=1,padding=0)\n",
    "        self.batchnorm1 = nn.BatchNorm2d(8, False)\n",
    "        \n",
    "        #spatial layer(depthwise layer)\n",
    "        self.conv2=nn.Conv2d(8,32,(23,1))\n",
    "        self.batchnorm2 = nn.BatchNorm2d(32, False)\n",
    "        self.avgpool1 = nn.AvgPool2d((1,2))\n",
    "        #apply dropout here in forward\n",
    "        \n",
    "        \n",
    "        #Block 2\n",
    "        #sepereable convolutional 2d\n",
    "        self.conv3=nn.Conv2d(32,32,(1,16),stride=1)\n",
    "        self.batchnorm3 = nn.BatchNorm2d(32,False) #CHECK THIS!\n",
    "        self.avgpool2 = nn.AvgPool2d((1,16))\n",
    "        #apply dropout here in forward\n",
    "        \n",
    "        \n",
    "        \n",
    "        #lstm layers\n",
    "        \n",
    "        #Block 3\n",
    "        #fc1 layer assumiing no bilstm layer rn can change later \n",
    "        #matthew check my math here please its 2am \n",
    "        \n",
    "        self.fc1= nn.Linear(352, 30)\n",
    "        self.fc2=nn.Linear(30,3)\n",
    "        \n",
    "        \n",
    "        \n",
    "    def forward(self,x):\n",
    "        x=self.conv1(x)\n",
    "        x =F.elu(x)\n",
    "        x=self.batchnorm1(x)\n",
    "        x = F.dropout(x, 0.25)\n",
    "        \n",
    "        x = self.conv2(x)\n",
    "        x = F.elu(x)\n",
    "        x=self.batchnorm2(x)\n",
    "        x = F.dropout(x, 0.25)\n",
    "        x=self.avgpool1(x)\n",
    "        \n",
    "        x=F.elu(self.conv3(x))\n",
    "        x=self.batchnorm3(x)\n",
    "        x = F.dropout(x, 0.25)\n",
    "        x=self.avgpool2(x)\n",
    "        \n",
    "        #bilstm stufff\n",
    "        \n",
    "        #Fully connected time\n",
    "        x=x.view(-1,352)\n",
    "        x=F.elu(self.fc1(x))\n",
    "        x=F.sigmoid(self.fc2(x))\n",
    "        return x"
   ]
  },
  {
   "cell_type": "code",
   "execution_count": 12,
   "metadata": {},
   "outputs": [
    {
     "name": "stdout",
     "output_type": "stream",
     "text": [
      "tensor([[0.4635, 0.5390, 0.5229]], grad_fn=<SigmoidBackward0>)\n"
     ]
    }
   ],
   "source": [
    "model=SeizureSense()\n",
    "model.to(device)\n",
    "output=model(full_dataset.__getitem__(1)[0].float())\n",
    "\n",
    "print(output)"
   ]
  },
  {
   "cell_type": "code",
   "execution_count": null,
   "metadata": {},
   "outputs": [],
   "source": [
    "criterion = nn.CrossEntropyLoss()\n",
    "optimizer = torch.optim.Adam(model.parameters(), lr=0.001)"
   ]
  },
  {
   "cell_type": "code",
   "execution_count": 13,
   "metadata": {},
   "outputs": [
    {
     "name": "stdout",
     "output_type": "stream",
     "text": [
      "['preictal']\n"
     ]
    }
   ],
   "source": [
    "#maps back the labels to words\n",
    "def decode_predictions(predictions):\n",
    "    label_names = ['interictal', 'preictal', 'ictal']\n",
    "    _, predicted_labels = torch.max(predictions, 1)\n",
    "    return [label_names[label] for label in predicted_labels]\n",
    "\n",
    "predicted_label_names = decode_predictions(output)\n",
    "print(predicted_label_names)"
   ]
  },
  {
   "cell_type": "code",
   "execution_count": null,
   "metadata": {},
   "outputs": [],
   "source": [
    "#training loop time\n",
    "criterion = nn.CrossEntropyLoss()\n",
    "\n",
    "# Optimizer\n",
    "optimizer = optim.Adam(model.parameters())\n",
    "num_epochs = 10\n",
    "for epoch in num_epochs:\n",
    "    model.train()\n",
    "    for inputs, labels in train_loader:\n",
    "        optimizer.zero_grad()\n",
    "        outputs = model(inputs)\n",
    "        loss = criterion(outputs, labels)\n",
    "        loss.backward()\n",
    "        optimizer.step()\n",
    "    \n",
    "    \n",
    "    # Validation Phase\n",
    "    model.eval()  \n",
    "    val_labels = []\n",
    "    val_predictions = []\n",
    "    with torch.no_grad():  # Disable gradient calculation still dont rlly know why this maters but wtv\n",
    "        for inputs, labels in val_loader:\n",
    "            outputs = model(inputs)\n",
    "            _, predicted = torch.max(outputs, 1)\n",
    "            val_labels.extend(labels.tolist())\n",
    "            val_predictions.extend(predicted.tolist())\n",
    "    \n",
    "    accuracy = accuracy_score(val_labels, val_predictions)\n",
    "    recall = recall_score(val_labels, val_predictions, average='macro')\n",
    "    specificity = recall_score(val_labels, val_predictions, average='macro', pos_label=0)\n",
    "    "
   ]
  }
 ],
 "metadata": {
  "kernelspec": {
   "display_name": "base",
   "language": "python",
   "name": "python3"
  },
  "language_info": {
   "codemirror_mode": {
    "name": "ipython",
    "version": 3
   },
   "file_extension": ".py",
   "mimetype": "text/x-python",
   "name": "python",
   "nbconvert_exporter": "python",
   "pygments_lexer": "ipython3",
   "version": "3.11.7"
  }
 },
 "nbformat": 4,
 "nbformat_minor": 2
}
